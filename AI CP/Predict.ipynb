{
 "cells": [
  {
   "cell_type": "code",
   "execution_count": 75,
   "id": "319eb815",
   "metadata": {},
   "outputs": [],
   "source": [
    "import tensorflow\n",
    "from tensorflow.keras.datasets import mnist\n",
    "from tensorflow.keras.models import Sequential\n",
    "from tensorflow.keras.layers import Dense, Dropout, Flatten\n",
    "from tensorflow.keras.layers import Conv2D, MaxPooling2D\n",
    "from tensorflow.keras import backend as K"
   ]
  },
  {
   "cell_type": "code",
   "execution_count": null,
   "id": "1d70680f",
   "metadata": {},
   "outputs": [],
   "source": []
  },
  {
   "cell_type": "code",
   "execution_count": 76,
   "id": "1836de39",
   "metadata": {},
   "outputs": [],
   "source": [
    "# the data, split between train and test sets\n",
    "(x_train, y_train), (x_test, y_test) = mnist.load_data()"
   ]
  },
  {
   "cell_type": "code",
   "execution_count": 77,
   "id": "3d592c80",
   "metadata": {},
   "outputs": [
    {
     "name": "stdout",
     "output_type": "stream",
     "text": [
      "(60000, 28, 28) (60000,)\n"
     ]
    }
   ],
   "source": [
    "print(x_train.shape, y_train.shape)\n"
   ]
  },
  {
   "cell_type": "code",
   "execution_count": 78,
   "id": "bf011001",
   "metadata": {},
   "outputs": [],
   "source": [
    "x_train = x_train.reshape(x_train.shape[0], 28, 28, 1)\n",
    "x_test = x_test.reshape(x_test.shape[0], 28, 28, 1)\n",
    "input_shape = (28, 28, 1)"
   ]
  },
  {
   "cell_type": "code",
   "execution_count": 79,
   "id": "7c840b02",
   "metadata": {},
   "outputs": [],
   "source": [
    "# convert class vectors to binary class matrices\n",
    "y_train =tensorflow.keras.utils.to_categorical(y_train, 10)\n",
    "y_test = tensorflow.keras.utils.to_categorical(y_test, 10)\n"
   ]
  },
  {
   "cell_type": "code",
   "execution_count": 80,
   "id": "c989a19e",
   "metadata": {},
   "outputs": [
    {
     "name": "stdout",
     "output_type": "stream",
     "text": [
      "x_train shape: (60000, 28, 28, 1)\n",
      "60000 train samples\n",
      "10000 test samples\n"
     ]
    }
   ],
   "source": [
    "x_train = x_train.astype('float32')\n",
    "x_test = x_test.astype('float32')\n",
    "x_train /= 255\n",
    "x_test /= 255\n",
    "print('x_train shape:', x_train.shape)\n",
    "print(x_train.shape[0], 'train samples')\n",
    "print(x_test.shape[0], 'test samples')"
   ]
  },
  {
   "cell_type": "code",
   "execution_count": 81,
   "id": "2b3f5086",
   "metadata": {},
   "outputs": [],
   "source": [
    "batch_size = 228\n",
    "num_classes = 10\n",
    "epochs = 60\n",
    "\n",
    "model = Sequential()\n",
    "model.add(Conv2D(32, kernel_size=(5, 5),activation='relu',input_shape=input_shape))\n",
    "model.add(MaxPooling2D(pool_size=(2, 2)))\n",
    "model.add(Conv2D(64, (3, 3), activation='relu'))\n",
    "model.add(MaxPooling2D(pool_size=(2, 2)))\n",
    "model.add(Flatten())\n",
    "model.add(Dense(128, activation='relu'))\n",
    "model.add(Dropout(0.3))\n",
    "model.add(Dense(64, activation='relu'))\n",
    "model.add(Dropout(0.5))\n",
    "model.add(Dense(num_classes, activation='softmax'))\n"
   ]
  },
  {
   "cell_type": "code",
   "execution_count": 82,
   "id": "6c6062ba",
   "metadata": {},
   "outputs": [],
   "source": [
    "model.compile(loss=tensorflow.keras.losses.categorical_crossentropy,optimizer=tensorflow.keras.optimizers.Adadelta(),metrics=['accuracy'])\n"
   ]
  },
  {
   "cell_type": "code",
   "execution_count": 83,
   "id": "77a8d346",
   "metadata": {},
   "outputs": [
    {
     "name": "stdout",
     "output_type": "stream",
     "text": [
      "Epoch 1/60\n",
      "264/264 [==============================] - 53s 196ms/step - loss: 2.3152 - accuracy: 0.1085 - val_loss: 2.3023 - val_accuracy: 0.1347\n",
      "Epoch 2/60\n",
      "264/264 [==============================] - 36s 136ms/step - loss: 2.3041 - accuracy: 0.1169 - val_loss: 2.2921 - val_accuracy: 0.1602\n",
      "Epoch 3/60\n",
      "264/264 [==============================] - 24s 92ms/step - loss: 2.2954 - accuracy: 0.1283 - val_loss: 2.2825 - val_accuracy: 0.1967\n",
      "Epoch 4/60\n",
      "264/264 [==============================] - 22s 83ms/step - loss: 2.2867 - accuracy: 0.1431 - val_loss: 2.2732 - val_accuracy: 0.2516\n",
      "Epoch 5/60\n",
      "264/264 [==============================] - 22s 84ms/step - loss: 2.2789 - accuracy: 0.1549 - val_loss: 2.2643 - val_accuracy: 0.3079\n",
      "Epoch 6/60\n",
      "264/264 [==============================] - 21s 79ms/step - loss: 2.2696 - accuracy: 0.1709 - val_loss: 2.2554 - val_accuracy: 0.3473\n",
      "Epoch 7/60\n",
      "264/264 [==============================] - 22s 82ms/step - loss: 2.2621 - accuracy: 0.1820 - val_loss: 2.2461 - val_accuracy: 0.3732\n",
      "Epoch 8/60\n",
      "264/264 [==============================] - 27s 101ms/step - loss: 2.2546 - accuracy: 0.1938 - val_loss: 2.2365 - val_accuracy: 0.3910\n",
      "Epoch 9/60\n",
      "264/264 [==============================] - 26s 97ms/step - loss: 2.2454 - accuracy: 0.2057 - val_loss: 2.2261 - val_accuracy: 0.4048\n",
      "Epoch 10/60\n",
      "264/264 [==============================] - 23s 86ms/step - loss: 2.2372 - accuracy: 0.2181 - val_loss: 2.2150 - val_accuracy: 0.4252\n",
      "Epoch 11/60\n",
      "264/264 [==============================] - 21s 80ms/step - loss: 2.2273 - accuracy: 0.2299 - val_loss: 2.2029 - val_accuracy: 0.4366\n",
      "Epoch 12/60\n",
      "264/264 [==============================] - 22s 85ms/step - loss: 2.2169 - accuracy: 0.2395 - val_loss: 2.1896 - val_accuracy: 0.4517\n",
      "Epoch 13/60\n",
      "264/264 [==============================] - 23s 85ms/step - loss: 2.2057 - accuracy: 0.2509 - val_loss: 2.1749 - val_accuracy: 0.4728\n",
      "Epoch 14/60\n",
      "264/264 [==============================] - 22s 82ms/step - loss: 2.1931 - accuracy: 0.2635 - val_loss: 2.1589 - val_accuracy: 0.4888\n",
      "Epoch 15/60\n",
      "264/264 [==============================] - 21s 80ms/step - loss: 2.1786 - accuracy: 0.2774 - val_loss: 2.1412 - val_accuracy: 0.5092\n",
      "Epoch 16/60\n",
      "264/264 [==============================] - 24s 92ms/step - loss: 2.1651 - accuracy: 0.2857 - val_loss: 2.1224 - val_accuracy: 0.5275\n",
      "Epoch 17/60\n",
      "264/264 [==============================] - 21s 80ms/step - loss: 2.1504 - accuracy: 0.2940 - val_loss: 2.1021 - val_accuracy: 0.5410\n",
      "Epoch 18/60\n",
      "264/264 [==============================] - 22s 85ms/step - loss: 2.1321 - accuracy: 0.3077 - val_loss: 2.0802 - val_accuracy: 0.5562\n",
      "Epoch 19/60\n",
      "264/264 [==============================] - 22s 82ms/step - loss: 2.1157 - accuracy: 0.3140 - val_loss: 2.0569 - val_accuracy: 0.5688\n",
      "Epoch 20/60\n",
      "264/264 [==============================] - 22s 83ms/step - loss: 2.1000 - accuracy: 0.3211 - val_loss: 2.0324 - val_accuracy: 0.5819\n",
      "Epoch 21/60\n",
      "264/264 [==============================] - 23s 89ms/step - loss: 2.0791 - accuracy: 0.3311 - val_loss: 2.0063 - val_accuracy: 0.6001\n",
      "Epoch 22/60\n",
      "264/264 [==============================] - 22s 82ms/step - loss: 2.0599 - accuracy: 0.3397 - val_loss: 1.9789 - val_accuracy: 0.6158\n",
      "Epoch 23/60\n",
      "264/264 [==============================] - 23s 86ms/step - loss: 2.0386 - accuracy: 0.3478 - val_loss: 1.9504 - val_accuracy: 0.6261\n",
      "Epoch 24/60\n",
      "264/264 [==============================] - 21s 80ms/step - loss: 2.0156 - accuracy: 0.3592 - val_loss: 1.9204 - val_accuracy: 0.6401\n",
      "Epoch 25/60\n",
      "264/264 [==============================] - 21s 81ms/step - loss: 1.9946 - accuracy: 0.3661 - val_loss: 1.8897 - val_accuracy: 0.6509\n",
      "Epoch 26/60\n",
      "264/264 [==============================] - 21s 81ms/step - loss: 1.9735 - accuracy: 0.3691 - val_loss: 1.8586 - val_accuracy: 0.6584\n",
      "Epoch 27/60\n",
      "264/264 [==============================] - 21s 80ms/step - loss: 1.9491 - accuracy: 0.3815 - val_loss: 1.8261 - val_accuracy: 0.6652\n",
      "Epoch 28/60\n",
      "264/264 [==============================] - 20s 77ms/step - loss: 1.9237 - accuracy: 0.3890 - val_loss: 1.7924 - val_accuracy: 0.6698\n",
      "Epoch 29/60\n",
      "264/264 [==============================] - 23s 87ms/step - loss: 1.9033 - accuracy: 0.3936 - val_loss: 1.7598 - val_accuracy: 0.6763\n",
      "Epoch 30/60\n",
      "264/264 [==============================] - 30s 114ms/step - loss: 1.8761 - accuracy: 0.4028 - val_loss: 1.7263 - val_accuracy: 0.6838\n",
      "Epoch 31/60\n",
      "264/264 [==============================] - 23s 89ms/step - loss: 1.8575 - accuracy: 0.4066 - val_loss: 1.6931 - val_accuracy: 0.6874\n",
      "Epoch 32/60\n",
      "264/264 [==============================] - 21s 80ms/step - loss: 1.8315 - accuracy: 0.4173 - val_loss: 1.6596 - val_accuracy: 0.6943\n",
      "Epoch 33/60\n",
      "264/264 [==============================] - 22s 84ms/step - loss: 1.8055 - accuracy: 0.4230 - val_loss: 1.6259 - val_accuracy: 0.6991\n",
      "Epoch 34/60\n",
      "264/264 [==============================] - 23s 87ms/step - loss: 1.7805 - accuracy: 0.4333 - val_loss: 1.5924 - val_accuracy: 0.7039\n",
      "Epoch 35/60\n",
      "264/264 [==============================] - 23s 89ms/step - loss: 1.7586 - accuracy: 0.4363 - val_loss: 1.5592 - val_accuracy: 0.7103\n",
      "Epoch 36/60\n",
      "264/264 [==============================] - 24s 92ms/step - loss: 1.7351 - accuracy: 0.4455 - val_loss: 1.5263 - val_accuracy: 0.7141\n",
      "Epoch 37/60\n",
      "264/264 [==============================] - 25s 94ms/step - loss: 1.7097 - accuracy: 0.4513 - val_loss: 1.4941 - val_accuracy: 0.7195\n",
      "Epoch 38/60\n",
      "264/264 [==============================] - 24s 92ms/step - loss: 1.6865 - accuracy: 0.4618 - val_loss: 1.4629 - val_accuracy: 0.7243\n",
      "Epoch 39/60\n",
      "264/264 [==============================] - 24s 91ms/step - loss: 1.6665 - accuracy: 0.4650 - val_loss: 1.4323 - val_accuracy: 0.7292\n",
      "Epoch 40/60\n",
      "264/264 [==============================] - 24s 91ms/step - loss: 1.6441 - accuracy: 0.4722 - val_loss: 1.4019 - val_accuracy: 0.7322\n",
      "Epoch 41/60\n",
      "264/264 [==============================] - 24s 91ms/step - loss: 1.6209 - accuracy: 0.4800 - val_loss: 1.3727 - val_accuracy: 0.7381\n",
      "Epoch 42/60\n",
      "264/264 [==============================] - 22s 85ms/step - loss: 1.6041 - accuracy: 0.4834 - val_loss: 1.3450 - val_accuracy: 0.7432\n",
      "Epoch 43/60\n",
      "264/264 [==============================] - 22s 84ms/step - loss: 1.5798 - accuracy: 0.4926 - val_loss: 1.3159 - val_accuracy: 0.7475\n",
      "Epoch 44/60\n",
      "264/264 [==============================] - 21s 81ms/step - loss: 1.5591 - accuracy: 0.4989 - val_loss: 1.2882 - val_accuracy: 0.7523\n",
      "Epoch 45/60\n",
      "264/264 [==============================] - 21s 80ms/step - loss: 1.5402 - accuracy: 0.5039 - val_loss: 1.2612 - val_accuracy: 0.7573\n",
      "Epoch 46/60\n",
      "264/264 [==============================] - 22s 84ms/step - loss: 1.5200 - accuracy: 0.5101 - val_loss: 1.2342 - val_accuracy: 0.7614\n",
      "Epoch 47/60\n",
      "264/264 [==============================] - 22s 83ms/step - loss: 1.4976 - accuracy: 0.5211 - val_loss: 1.2087 - val_accuracy: 0.7655\n",
      "Epoch 48/60\n",
      "264/264 [==============================] - 21s 79ms/step - loss: 1.4839 - accuracy: 0.5195 - val_loss: 1.1849 - val_accuracy: 0.7715\n",
      "Epoch 49/60\n",
      "264/264 [==============================] - 20s 77ms/step - loss: 1.4641 - accuracy: 0.5307 - val_loss: 1.1602 - val_accuracy: 0.7747\n",
      "Epoch 50/60\n",
      "264/264 [==============================] - 22s 82ms/step - loss: 1.4407 - accuracy: 0.5372 - val_loss: 1.1357 - val_accuracy: 0.7789\n",
      "Epoch 51/60\n",
      "264/264 [==============================] - 22s 82ms/step - loss: 1.4248 - accuracy: 0.5418 - val_loss: 1.1131 - val_accuracy: 0.7832\n",
      "Epoch 52/60\n",
      "264/264 [==============================] - 21s 79ms/step - loss: 1.4098 - accuracy: 0.5453 - val_loss: 1.0909 - val_accuracy: 0.7881\n",
      "Epoch 53/60\n",
      "264/264 [==============================] - 21s 81ms/step - loss: 1.3898 - accuracy: 0.5541 - val_loss: 1.0672 - val_accuracy: 0.7923\n",
      "Epoch 54/60\n",
      "264/264 [==============================] - 22s 82ms/step - loss: 1.3743 - accuracy: 0.5576 - val_loss: 1.0462 - val_accuracy: 0.7963\n",
      "Epoch 55/60\n",
      "264/264 [==============================] - 21s 79ms/step - loss: 1.3573 - accuracy: 0.5623 - val_loss: 1.0249 - val_accuracy: 0.8009\n",
      "Epoch 56/60\n",
      "264/264 [==============================] - 21s 80ms/step - loss: 1.3419 - accuracy: 0.5659 - val_loss: 1.0050 - val_accuracy: 0.8053\n",
      "Epoch 57/60\n"
     ]
    },
    {
     "name": "stdout",
     "output_type": "stream",
     "text": [
      "264/264 [==============================] - 21s 80ms/step - loss: 1.3239 - accuracy: 0.5742 - val_loss: 0.9837 - val_accuracy: 0.8086\n",
      "Epoch 58/60\n",
      "264/264 [==============================] - 21s 81ms/step - loss: 1.3111 - accuracy: 0.5777 - val_loss: 0.9646 - val_accuracy: 0.8131\n",
      "Epoch 59/60\n",
      "264/264 [==============================] - 21s 80ms/step - loss: 1.2940 - accuracy: 0.5860 - val_loss: 0.9442 - val_accuracy: 0.8169\n",
      "Epoch 60/60\n",
      "264/264 [==============================] - 20s 77ms/step - loss: 1.2779 - accuracy: 0.5874 - val_loss: 0.9252 - val_accuracy: 0.8219\n",
      "The model has successfully trained\n"
     ]
    }
   ],
   "source": [
    "hist = model.fit(x_train, y_train,batch_size=batch_size,epochs=epochs,verbose=1,validation_data=(x_test, y_test))\n",
    "print(\"The model has successfully trained\")"
   ]
  },
  {
   "cell_type": "code",
   "execution_count": 84,
   "id": "ca05ded4",
   "metadata": {},
   "outputs": [
    {
     "name": "stdout",
     "output_type": "stream",
     "text": [
      "Test loss: 0.9252374768257141\n",
      "Test accuracy: 0.8219000101089478\n"
     ]
    }
   ],
   "source": [
    "score = model.evaluate(x_test, y_test, verbose=0)\n",
    "print('Test loss:', score[0])\n",
    "print('Test accuracy:', score[1])"
   ]
  },
  {
   "cell_type": "code",
   "execution_count": 85,
   "id": "0f2fa7e1",
   "metadata": {},
   "outputs": [
    {
     "name": "stdout",
     "output_type": "stream",
     "text": [
      "Saving the model as mnist.h5\n"
     ]
    }
   ],
   "source": [
    "model.save('mnist2.h5')\n",
    "print(\"Saving the model as mnist.h5\")"
   ]
  },
  {
   "cell_type": "code",
   "execution_count": 86,
   "id": "995eb1a4",
   "metadata": {},
   "outputs": [],
   "source": [
    "from keras.models import load_model\n",
    "from tkinter import *\n",
    "import tkinter as tk\n",
    "import win32gui\n",
    "from PIL import ImageGrab, Image\n",
    "import numpy as np"
   ]
  },
  {
   "cell_type": "code",
   "execution_count": 87,
   "id": "27775b79",
   "metadata": {},
   "outputs": [],
   "source": [
    "model = load_model('mnist2.h5')\n"
   ]
  },
  {
   "cell_type": "code",
   "execution_count": 88,
   "id": "6943bf24",
   "metadata": {},
   "outputs": [],
   "source": [
    "def predict_digit(img):\n",
    "    #resize image to 28x28 pixels\n",
    "    img = img.resize((28,28))\n",
    "    #convert rgb to grayscale\n",
    "    img = img.convert('L')\n",
    "    img = np.array(img)\n",
    "    #reshaping to support our model input and normalizing\n",
    "    img = img.reshape(1,28,28,1)\n",
    "    img = img/255.0\n",
    "    #predicting the class\n",
    "    res = model.predict([img])[0]\n",
    "    return np.argmax(res), max(res)\n"
   ]
  },
  {
   "cell_type": "code",
   "execution_count": 89,
   "id": "ef6d4c3d",
   "metadata": {},
   "outputs": [],
   "source": [
    "class App(tk.Tk):\n",
    "    def __init__(self):\n",
    "        tk.Tk.__init__(self)\n",
    "\n",
    "        self.x = self.y = 0\n",
    "        \n",
    "        # Creating elements\n",
    "        self.canvas = tk.Canvas(self, width=300, height=300, bg = \"white\", cursor=\"cross\")\n",
    "        self.label = tk.Label(self, text=\"Draw..\", font=(\"Helvetica\", 48))\n",
    "        self.classify_btn = tk.Button(self, text = \"Recognise\", command = self.classify_handwriting)   \n",
    "        self.button_clear = tk.Button(self, text = \"Clear\", command = self.clear_all)\n",
    "       \n",
    "        # Grid structure\n",
    "        self.canvas.grid(row=0, column=0, pady=2, sticky=W, )\n",
    "        self.label.grid(row=0, column=1,pady=2, padx=2)\n",
    "        self.classify_btn.grid(row=1, column=1, pady=2, padx=2)\n",
    "        self.button_clear.grid(row=1, column=0, pady=2)\n",
    "        \n",
    "        #self.canvas.bind(\"<Motion>\", self.start_pos)\n",
    "        self.canvas.bind(\"<B1-Motion>\", self.draw_lines)\n",
    "\n",
    "    def clear_all(self):\n",
    "        self.canvas.delete(\"all\")\n",
    "        \n",
    "    def classify_handwriting(self):\n",
    "        HWND = self.canvas.winfo_id()  # get the handle of the canvas\n",
    "        rect = win32gui.GetWindowRect(HWND)  # get the coordinate of the canvas\n",
    "        a,b,c,d = rect\n",
    "        rect=(a+4,b+4,c-4,d-4)\n",
    "        im = ImageGrab.grab(rect)\n",
    "\n",
    "        digit, acc = predict_digit(im)\n",
    "        self.label.configure(text= str(digit)+', '+ str(int(acc*100))+'%')\n",
    "\n",
    "    def draw_lines(self, event):\n",
    "        self.x = event.x\n",
    "        self.y = event.y\n",
    "        r=8\n",
    "        self.canvas.create_oval(self.x-r, self.y-r, self.x + r, self.y + r, fill='black')\n",
    "       "
   ]
  },
  {
   "cell_type": "code",
   "execution_count": 90,
   "id": "49c62119",
   "metadata": {},
   "outputs": [],
   "source": [
    "app = App()\n",
    "mainloop()\n"
   ]
  },
  {
   "cell_type": "code",
   "execution_count": null,
   "id": "e9730e46",
   "metadata": {},
   "outputs": [],
   "source": []
  },
  {
   "cell_type": "code",
   "execution_count": null,
   "id": "503c4084",
   "metadata": {},
   "outputs": [],
   "source": []
  }
 ],
 "metadata": {
  "kernelspec": {
   "display_name": "Python [conda env:root] *",
   "language": "python",
   "name": "conda-root-py"
  },
  "language_info": {
   "codemirror_mode": {
    "name": "ipython",
    "version": 3
   },
   "file_extension": ".py",
   "mimetype": "text/x-python",
   "name": "python",
   "nbconvert_exporter": "python",
   "pygments_lexer": "ipython3",
   "version": "3.8.8"
  }
 },
 "nbformat": 4,
 "nbformat_minor": 5
}
